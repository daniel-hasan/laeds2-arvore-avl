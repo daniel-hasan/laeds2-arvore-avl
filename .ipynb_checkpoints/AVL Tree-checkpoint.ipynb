{
 "cells": [
  {
   "cell_type": "markdown",
   "metadata": {},
   "source": [
    "Antes de entregar, certifique-se que tenha executado todos os comandos/códigos deste Jupyter. É obrigatório que todas as saídas tenham sido apresentadas. Perda de 2 pontos caso não tenham feito isso. Qualquer linha de comando/código como a de baixo, você pode executá-la a selecionando e pressionando `ctrl+enter`."
   ]
  },
  {
   "cell_type": "markdown",
   "metadata": {},
   "source": [
    "Nesta prática iremos implementar a inserção na árvore AVL. Para isso, já temos implementado alguns métodos e classes. Diferentemente da prática passada, desta vez temos a classe `AVL` com um nodo raiz e a operação de inserir e imprimir. A classe `No` que representa um nó dessa árvore com suas referencias `esquerda` e `direita` e, além disso, um atributo que armazena a altura da mesma e um [atributo calculado](https://daniel-hasan.github.io/cefet-web-grad/classes/python2/#encapsulamento-ex) que define o equilíbrio, para definir se a subarvore a partir deste nodo está ou não balanceada. "
   ]
  },
  {
   "cell_type": "markdown",
   "metadata": {},
   "source": [
    "**Atividade 1 - rotação a esquerda: ** Você deverá implementar o método `rotacao_esquerda` da classe `Nodo`. Nesse método, deve-se fazer a rotação a esquerda. Esse método será executado em qualquer parte da árvore. Podemos considerar, assim, que cada nodo é raiz de uma determinada subarvore. Essa raiz pode ser a raiz da árvore em questão. Assim, esse método recebe como parametro a raiz de uma subárvore e retorna a nova raiz após a rotação. Veja figura abaixo em que a `raiz_subarvore` é o nó 13. Na árvore a direita, as setas em verde representam as referencias modificadas. Além disso, atualize a altura dos nós que julgar necessário usando o método `atualiza_altura`. Perceba que nem todos os nós tem a altura modificada e você não deve alterar mais nós que o necessário (mesmo 'para garantir')."
   ]
  },
  {
   "cell_type": "markdown",
   "metadata": {},
   "source": [
    "<img src=\"imgs/rotacao_simples_esquerda.png\">"
   ]
  },
  {
   "cell_type": "markdown",
   "metadata": {},
   "source": [
    "Execute o teste unitário abaixo para verificar sua corretude:"
   ]
  },
  {
   "cell_type": "code",
   "execution_count": null,
   "metadata": {},
   "outputs": [],
   "source": [
    "!python3 -m avl_tree_test TestAVL.test_rotacao_esquerda"
   ]
  },
  {
   "cell_type": "markdown",
   "metadata": {},
   "source": [
    "**Atividade 2 - rotacionar a direita**: Similar à atividade anterior, agora você deverá implementar a rotação a direita pelo método `rotacao_direita` conforme figura abaixo. Lembre-se também de atualizar a altura quando necessário. Dessa vez, as referencias as serem modificadas não estão realçadas - você deverá verificar quais são elas. "
   ]
  },
  {
   "cell_type": "markdown",
   "metadata": {},
   "source": [
    "<img src=\"imgs/rotacao_simples_direita.png\">"
   ]
  },
  {
   "cell_type": "markdown",
   "metadata": {},
   "source": [
    "Execute o teste unitário abaixo para verificar sua corretude:"
   ]
  },
  {
   "cell_type": "code",
   "execution_count": null,
   "metadata": {},
   "outputs": [],
   "source": [
    "!python3 -m avl_tree_test TestAVL.test_rotacao_direita"
   ]
  },
  {
   "cell_type": "markdown",
   "metadata": {},
   "source": [
    "**Atividade 3 - Rotação dupla a esquerda: ** Você deverá implementar o método `rotacao_dupla_esquerda`. Este método recebe como parâmetro uma raiz de uma subárvore e deve realizar a operação conforme a figura abaixo. Para realizar essa operação e modificar as referencias, você deverá usar apenas atribuições com os métodos `rotacao_direita` e  `rotacao_esquerda`. Este método deve retornar a nova raiz desta subárvore."
   ]
  },
  {
   "cell_type": "markdown",
   "metadata": {},
   "source": [
    "<img src=\"imgs/rotacao_dupla_esquerda.png\">"
   ]
  },
  {
   "cell_type": "markdown",
   "metadata": {},
   "source": [
    "Execute nosso querido teste unitário: "
   ]
  },
  {
   "cell_type": "code",
   "execution_count": null,
   "metadata": {},
   "outputs": [],
   "source": [
    "!python3 -m avl_tree_test TestAVL.test_rotacao_dupla_esquerda"
   ]
  },
  {
   "cell_type": "markdown",
   "metadata": {},
   "source": [
    "**Atividade 4 - rotação dupla a direita: ** De forma similar à atividade anterior, implemente o método `rotacao_dupla_direita`. A figura abaixo mostra a mudança desta (sub)árvore."
   ]
  },
  {
   "cell_type": "markdown",
   "metadata": {},
   "source": [
    "<img src=\"imgs/rotacao_dupla_direita.png\">"
   ]
  },
  {
   "cell_type": "markdown",
   "metadata": {},
   "source": [
    "🥰 Teste 🥰:"
   ]
  },
  {
   "cell_type": "code",
   "execution_count": null,
   "metadata": {},
   "outputs": [],
   "source": [
    "!python3 -m avl_tree_test TestAVL.test_rotacao_dupla_direita"
   ]
  },
  {
   "cell_type": "markdown",
   "metadata": {},
   "source": [
    "**Atividade 5**: Você deverá adicionar no método `_insere` os métodos implementados de acordo com cada caso de desbalanceamento da subarvore cuja raiz é o parametro `raiz_sub_arvore`. Esse método retorna a nova raiz. No código, já existe todos os casos considerando o desiquilibrio da árvore e a chave a ser inserida. "
   ]
  },
  {
   "cell_type": "markdown",
   "metadata": {},
   "source": [
    "❤️ Make tests not war ❤️"
   ]
  },
  {
   "cell_type": "code",
   "execution_count": null,
   "metadata": {},
   "outputs": [],
   "source": [
    "!python3 -m avl_tree_test TestAVL.test_insere"
   ]
  },
  {
   "cell_type": "markdown",
   "metadata": {},
   "source": [
    "Faça uma árvore que seja necessário passar por, pelo menos uma rotação simples e uma rotação dupla. Se necessário, faça \"prints\" no código para confirmar que foi feito determinadas rotações. Não esqueça de reiniciar o Kernel antes (e após fazer alguma modificação no código)"
   ]
  },
  {
   "cell_type": "code",
   "execution_count": null,
   "metadata": {},
   "outputs": [],
   "source": []
  }
 ],
 "metadata": {
  "kernelspec": {
   "display_name": "Python 3",
   "language": "python",
   "name": "python3"
  },
  "language_info": {
   "codemirror_mode": {
    "name": "ipython",
    "version": 3
   },
   "file_extension": ".py",
   "mimetype": "text/x-python",
   "name": "python",
   "nbconvert_exporter": "python",
   "pygments_lexer": "ipython3",
   "version": "3.6.9"
  }
 },
 "nbformat": 4,
 "nbformat_minor": 2
}
